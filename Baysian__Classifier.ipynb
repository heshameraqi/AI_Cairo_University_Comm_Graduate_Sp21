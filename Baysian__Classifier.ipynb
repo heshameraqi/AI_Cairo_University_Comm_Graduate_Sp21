{
  "nbformat": 4,
  "nbformat_minor": 0,
  "metadata": {
    "colab": {
      "name": "Baysian _Classifier.ipynb",
      "provenance": []
    },
    "kernelspec": {
      "name": "python3",
      "display_name": "Python 3"
    },
    "language_info": {
      "name": "python"
    }
  },
  "cells": [
    {
      "cell_type": "markdown",
      "metadata": {
        "id": "O9QqxA8kl03E"
      },
      "source": [
        "Imports and configurations"
      ]
    },
    {
      "cell_type": "code",
      "metadata": {
        "id": "VVISld0-lzc5"
      },
      "source": [
        "!wget https://raw.githubusercontent.com/heshameraqi/AI_Cairo_University_Comm_Graduate_Sp21/main/wave.points.txt\n",
        "\n",
        "import sys\n",
        "import os\n",
        "from scipy.stats import multivariate_normal\n",
        "import numpy as np\n",
        "import matplotlib.pyplot as plt\n",
        "\n",
        "fwave= \"wave.points.txt\""
      ],
      "execution_count": null,
      "outputs": []
    },
    {
      "cell_type": "markdown",
      "metadata": {
        "id": "XSJHFACsmhAy"
      },
      "source": [
        "Read data"
      ]
    },
    {
      "cell_type": "code",
      "metadata": {
        "id": "CO_HrY9Wl7Q7"
      },
      "source": [
        "C1 = []\n",
        "C2 = []\n",
        "with open(fwave, \"r\") as raw:\n",
        "    for line in raw:\n",
        "        data = [float(x) for x in line.strip().split()]\n",
        "        if data[2] > 1.5:\n",
        "            C2.append([data[0], data[1]])\n",
        "        else:\n",
        "            C1.append([data[0], data[1]])"
      ],
      "execution_count": null,
      "outputs": []
    },
    {
      "cell_type": "code",
      "metadata": {
        "id": "ChwzEdMFmezL"
      },
      "source": [
        "Training"
      ],
      "execution_count": null,
      "outputs": []
    },
    {
      "cell_type": "code",
      "metadata": {
        "id": "QG2l7chCl-Qj"
      },
      "source": [
        "# Fit 2 Gaussians (2 Liklihoods): get 2 means and 2 covariance matrices\n",
        "p1 = np.array(C1).T\n",
        "p2 = np.array(C2).T\n",
        "\n",
        "cov1 = np.cov(p1)\n",
        "cov2 = ??\n",
        "mean1 = ??\n",
        "mean2 = ??\n",
        "\n",
        "probXC1 = multivariate_normal(mean1, cov1); \n",
        "probXC2 = ??\n",
        "\n",
        "# Visualize the 2 Gaussians (2 Liklihoods)\n",
        "x, y = np.mgrid[-1.5:1.5:.01, -1.5:1.5:.01]\n",
        "pos = np.empty(x.shape + (2,))\n",
        "pos[:, :, 0] = x; pos[:, :, 1] = y\n",
        "\n",
        "plt.figure()\n",
        "plt.contour(x, y, probXC1.pdf(pos),  colors='r')\n",
        "plt.contour(x, y, probXC2.pdf(pos),  colors='b')\n",
        "plt.plot(p1[0], p1[1], 'r.')\n",
        "plt.plot(p2[0], p2[1], 'b.')\n",
        "plt.show()\n",
        "\n",
        "px1c1 = probXC1.pdf(C1) # P(X|C1) X = First Class Points\n",
        "px1c2 = ?? # P(X|C2) X = First Class Points\n",
        "\n",
        "px2c1 = ?? # P(X|C1) X = Second Class Points\n",
        "px2c2 = ?? # P(X|C2) X = Second Class Points"
      ],
      "execution_count": null,
      "outputs": []
    },
    {
      "cell_type": "markdown",
      "metadata": {
        "id": "0f09dvkWmcUb"
      },
      "source": [
        "Model evaluations for different priors (PC1)"
      ]
    },
    {
      "cell_type": "code",
      "metadata": {
        "id": "NeM-7xyemVBz"
      },
      "source": [
        "FPR = []\n",
        "TPR = []\n",
        "PC1 = np.linspace(0.0, 1.0, 21, endpoint=True)\n",
        "for pc1 in PC1:\n",
        "    pc2 = 1.0 - pc1\n",
        "    \n",
        "    # First class points (Positive Class)\n",
        "    d = px1c1*pc1 - px1c2*pc2 # Positive d's means class 1 predicted\n",
        "    tp = ??\n",
        "    fn = ??\n",
        "    TPR.append(tp/(tp+fn))\n",
        "    \n",
        "    # Second class points (Negative Class)\n",
        "    d = ?? # Positive d's means class 1 predicted\n",
        "    tn = ??\n",
        "    fp = ??\n",
        "    FPR.append(fp/(tn+fp))"
      ],
      "execution_count": null,
      "outputs": []
    },
    {
      "cell_type": "markdown",
      "metadata": {
        "id": "vu-EWr5wma8y"
      },
      "source": [
        "Visualize ROC curve"
      ]
    },
    {
      "cell_type": "code",
      "metadata": {
        "id": "6tPfJ5yimZwr"
      },
      "source": [
        "plt.figure()\n",
        "plt.plot(FPR,TPR, 'x-')\n",
        "plt.xlabel('FPR')  \n",
        "plt.ylabel('TPR') \n",
        "for i, txt in enumerate(PC1):\n",
        "    plt.annotate(\"%.2f\"%txt, (FPR[i],TPR[i])) # Text is the prior P(C1)\n",
        "    \n",
        "plt.grid()\n",
        "plt.show()\n",
        "\n",
        "# Which P(C1) is the best choice if C1 is a positive class for a cancer detection problem ??"
      ],
      "execution_count": null,
      "outputs": []
    }
  ]
}